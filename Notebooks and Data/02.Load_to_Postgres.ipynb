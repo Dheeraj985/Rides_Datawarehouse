{
 "cells": [
  {
   "cell_type": "code",
   "execution_count": 1,
   "id": "32a3c80b",
   "metadata": {},
   "outputs": [],
   "source": [
    "import pandas as pd\n",
    "from sqlalchemy import create_engine"
   ]
  },
  {
   "cell_type": "code",
   "execution_count": 2,
   "id": "00708360",
   "metadata": {},
   "outputs": [],
   "source": [
    "data = pd.read_csv('rides_staging.csv')"
   ]
  },
  {
   "cell_type": "code",
   "execution_count": 3,
   "id": "02110f10",
   "metadata": {},
   "outputs": [
    {
     "name": "stdout",
     "output_type": "stream",
     "text": [
      "✅ ETL pipeline complete. Data loaded to PostgreSQL.\n"
     ]
    }
   ],
   "source": [
    "username = 'ridesdata'\n",
    "password = 'pass'\n",
    "host = 'localhost'\n",
    "port = '5432'\n",
    "database = 'rideshare_db'\n",
    "\n",
    "engine = create_engine(f'postgresql+psycopg2://{username}:{password}@{host}:{port}/{database}')\n",
    "\n",
    "data.to_sql('stg_rides', engine, if_exists='replace', index=False)\n",
    "\n",
    "\n",
    "print(\"✅ ETL pipeline complete. Data loaded to PostgreSQL.\")\n"
   ]
  },
  {
   "cell_type": "code",
   "execution_count": null,
   "id": "1fc60c98",
   "metadata": {},
   "outputs": [],
   "source": []
  }
 ],
 "metadata": {
  "kernelspec": {
   "display_name": "Python 3 (ipykernel)",
   "language": "python",
   "name": "python3"
  },
  "language_info": {
   "codemirror_mode": {
    "name": "ipython",
    "version": 3
   },
   "file_extension": ".py",
   "mimetype": "text/x-python",
   "name": "python",
   "nbconvert_exporter": "python",
   "pygments_lexer": "ipython3",
   "version": "3.9.16"
  }
 },
 "nbformat": 4,
 "nbformat_minor": 5
}
